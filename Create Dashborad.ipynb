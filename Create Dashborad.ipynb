{
 "cells": [
  {
   "cell_type": "code",
   "execution_count": 1,
   "metadata": {},
   "outputs": [],
   "source": [
    "### A4. Buat debitur info summary ###\n",
    "### Create dashboard ------------ ###\n",
    "import pandas as pd\n",
    "import numpy as np\n",
    "import matplotlib.pyplot as plt\n",
    "import seaborn as sns\n",
    "import scipy.stats\n",
    "import warnings\n",
    "warnings.filterwarnings(\"ignore\")\n",
    "from scipy.stats import poisson"
   ]
  },
  {
   "cell_type": "code",
   "execution_count": 3,
   "metadata": {},
   "outputs": [],
   "source": [
    "# Read source data ##\n",
    "DirSource = \"C:\\Data\\BTN_Consolidate_2.csv\"\n",
    "df = pd.read_csv(DirSource, sep='|')\n",
    "\n",
    "df[\"Oustanding\"] = (df[\"Oustanding\"]/1000000).astype(int)\n",
    "df[\"AsofDate\"] = pd.to_datetime(df[\"AsofDate\"]).dt.strftime('%m-%Y')\n",
    "df[\"OpenDate\"] = pd.to_datetime(df[\"OpenDate\"]).dt.strftime('%m-%Y')\n",
    "\n",
    "strTglProses = pd.to_datetime(df[\"AsofDate\"]).dt.strftime('%m-%Y')\n",
    "strOpenDate = pd.to_datetime(df[\"OpenDate\"]).dt.strftime('%m-%Y')"
   ]
  },
  {
   "cell_type": "code",
   "execution_count": 4,
   "metadata": {},
   "outputs": [],
   "source": [
    "## Row A_11  Netgrowth Debtor (current month) ##\n",
    "df1 = df[(strOpenDate == strTglProses)]\n",
    "df1[\"SignDash\"] ='Acct Baru' #'A_11 Net Growth NOD'\n",
    "df1 = df1.groupby(['SignDash','AsofDate'])['Oustanding'].count().unstack(fill_value=0)\n",
    "df1.reset_index(inplace=True)"
   ]
  },
  {
   "cell_type": "code",
   "execution_count": 5,
   "metadata": {},
   "outputs": [],
   "source": [
    "## Row A_12 Number of debtor ##\n",
    "df2 = df\n",
    "df2[\"AsofDate\"] = pd.to_datetime(df[\"AsofDate\"]).dt.strftime('%m-%Y')\n",
    "df2[\"SignDash\"] ='Total Acct' #'A_12 Number of Debitur'\n",
    "df2 = df2.groupby(['SignDash','AsofDate'])['Oustanding'].count().unstack(fill_value=0)\n",
    "df2.reset_index(inplace=True)"
   ]
  },
  {
   "cell_type": "code",
   "execution_count": 6,
   "metadata": {},
   "outputs": [],
   "source": [
    "## Row A_21 NetG OS ##\n",
    "df3 = df\n",
    "df3 = df[(strOpenDate == strTglProses)]\n",
    "df3[\"AsofDate\"] = pd.to_datetime(df[\"AsofDate\"]).dt.strftime('%m-%Y')\n",
    "df3[\"SignDash\"] ='OS Baru (Jt)' #'A_21 Net Growth OS in (Jt)'\n",
    "df3 = df3.groupby(['SignDash','AsofDate'])['Oustanding'].sum().unstack(fill_value=0)\n",
    "df3.reset_index(inplace=True)"
   ]
  },
  {
   "cell_type": "code",
   "execution_count": 7,
   "metadata": {},
   "outputs": [],
   "source": [
    "## 'A_22 OS[in (Jt)]' ##\n",
    "df4 = df\n",
    "df4[\"AsofDate\"] = pd.to_datetime(df4[\"AsofDate\"]).dt.strftime('%m-%Y')\n",
    "df4[\"SignDash\"] = 'Total OS (Jt)' #'A_22 OS in (Jt)'\n",
    "df4 = df4.groupby(['SignDash','AsofDate'])['Oustanding'].sum().unstack(fill_value=0)\n",
    "df4.reset_index(inplace=True)"
   ]
  },
  {
   "cell_type": "code",
   "execution_count": 8,
   "metadata": {},
   "outputs": [],
   "source": [
    "## Row A_221 ##\n",
    "df5 = df\n",
    "df5[\"AsofDate\"] = pd.to_datetime(df5[\"AsofDate\"]).dt.strftime('%m-%Y')\n",
    "df5[\"SignDash\"] = df5['Oustanding_Band'].map(str) #'A_221 Loan vol +'-'+ 'Loan vol'\n",
    "df5 = df5.groupby(['SignDash','AsofDate'])['Oustanding'].sum().unstack(fill_value=0)\n",
    "df5.reset_index(inplace=True)"
   ]
  },
  {
   "cell_type": "code",
   "execution_count": 9,
   "metadata": {},
   "outputs": [],
   "source": [
    "## Row A_222 LvProd ##\n",
    "df6 = df\n",
    "df6[\"AsofDate\"] = pd.to_datetime(df6[\"AsofDate\"]).dt.strftime('%m-%Y')\n",
    "df6[\"SignDash\"] = 'Tipe Bisnis'+'-'+ df6['Type_Buss'].map(str) #'A_222 Loan vol BussType'\n",
    "df6 = df6.groupby(['SignDash','AsofDate'])['Oustanding'].sum().unstack(fill_value=0)\n",
    "df6.reset_index(inplace=True)"
   ]
  },
  {
   "cell_type": "code",
   "execution_count": 10,
   "metadata": {},
   "outputs": [],
   "source": [
    "## Row B_1 Deliquent ##\n",
    "df7 = df\n",
    "df7[\"AsofDate\"] = pd.to_datetime(df7[\"AsofDate\"]).dt.strftime('%m-%Y')\n",
    "df7[\"SignDash\"] = df7['Collectibility_Desc'].map(str) +'-'+ '(Jt)' #'B_1 Loan vol DelQ'+'-'+ 'DelQ'\n",
    "df7 = df7.groupby(['SignDash','AsofDate'])['Oustanding'].sum().unstack(fill_value=0)\n",
    "df7.reset_index(inplace=True)"
   ]
  },
  {
   "cell_type": "code",
   "execution_count": 11,
   "metadata": {},
   "outputs": [],
   "source": [
    "## Bucket Dpd ##\n",
    "df8 = df\n",
    "df8[\"AsofDate\"] = pd.to_datetime(df8[\"AsofDate\"]).dt.strftime('%m-%Y')\n",
    "df8[\"SignDash\"] = df8['Bucket'].map(str) #'D_1'+'-'+\n",
    "df8 = df8.groupby(['SignDash','AsofDate'])['Oustanding'].sum().unstack(fill_value=0)\n",
    "df8.reset_index(inplace=True)"
   ]
  },
  {
   "cell_type": "code",
   "execution_count": 12,
   "metadata": {},
   "outputs": [],
   "source": [
    "## E_1 Portfolio Composition ##\n",
    "df9 = df\n",
    "df9[\"AsofDate\"] = pd.to_datetime(df9[\"AsofDate\"]).dt.strftime('%m-%Y')\n",
    "df9[\"SignDash\"] = 'Coll'+'-'+df9['Collectibility'].map(str) #'E_1 Coll'+'-'+\n",
    "df9 = df9.groupby(['SignDash','AsofDate'])['Oustanding'].sum().unstack(fill_value=0)\n",
    "df9.reset_index(inplace=True)"
   ]
  },
  {
   "cell_type": "code",
   "execution_count": 13,
   "metadata": {},
   "outputs": [],
   "source": [
    "df_union_all= pd.concat([df1,df2,df3,df4,df5,df6,df7,df8,df9])\n",
    "# df_union_all = df_union_all.T\n",
    "\n",
    "df_trend1 = pd.concat([df1,df2])\n",
    "df_trend2 = pd.concat([df3,df4])\n",
    "df_trend3 = pd.concat([df5])\n",
    "df_trend4 = pd.concat([df6])\n",
    "df_trend5 = pd.concat([df7])\n",
    "df_trend6 = pd.concat([df8])\n",
    "df_trend7 = pd.concat([df9])"
   ]
  },
  {
   "cell_type": "code",
   "execution_count": 14,
   "metadata": {},
   "outputs": [
    {
     "name": "stdout",
     "output_type": "stream",
     "text": [
      "Membuat dataset tren - selesai\n"
     ]
    }
   ],
   "source": [
    "## export to Csv ##\n",
    "DirResult = (r\"C:\\Data\\Result\\BTN_Dashboard.csv\")\n",
    "df_union_all.to_csv( DirResult, index = False, sep='|')\n",
    "# print(df_union_all)\n",
    "print('Membuat dataset tren - selesai')"
   ]
  },
  {
   "cell_type": "code",
   "execution_count": 15,
   "metadata": {},
   "outputs": [
    {
     "ename": "NameError",
     "evalue": "name 'df_rawdata' is not defined",
     "output_type": "error",
     "traceback": [
      "\u001b[0;31m---------------------------------------------------------------------------\u001b[0m",
      "\u001b[0;31mNameError\u001b[0m                                 Traceback (most recent call last)",
      "\u001b[0;32m<ipython-input-15-a4e3b0247bc1>\u001b[0m in \u001b[0;36m<module>\u001b[0;34m\u001b[0m\n\u001b[1;32m      1\u001b[0m \u001b[0;31m## Membuat dataset flowrate ##\u001b[0m\u001b[0;34m\u001b[0m\u001b[0;34m\u001b[0m\u001b[0;34m\u001b[0m\u001b[0m\n\u001b[1;32m      2\u001b[0m \u001b[0;31m## ------------------------ ##\u001b[0m\u001b[0;34m\u001b[0m\u001b[0;34m\u001b[0m\u001b[0;34m\u001b[0m\u001b[0m\n\u001b[0;32m----> 3\u001b[0;31m \u001b[0mdf_raw_flow\u001b[0m \u001b[0;34m=\u001b[0m \u001b[0mdf_rawdata\u001b[0m\u001b[0;34m\u001b[0m\u001b[0;34m\u001b[0m\u001b[0m\n\u001b[0m\u001b[1;32m      4\u001b[0m \u001b[0mdf_raw_flow\u001b[0m\u001b[0;34m[\u001b[0m\u001b[0;34m'MonthX'\u001b[0m\u001b[0;34m]\u001b[0m \u001b[0;34m=\u001b[0m \u001b[0mpd\u001b[0m\u001b[0;34m.\u001b[0m\u001b[0mto_datetime\u001b[0m\u001b[0;34m(\u001b[0m\u001b[0mdf_raw_flow\u001b[0m\u001b[0;34m[\u001b[0m\u001b[0;34m\"AsofDate\"\u001b[0m\u001b[0;34m]\u001b[0m\u001b[0;34m)\u001b[0m\u001b[0;34m.\u001b[0m\u001b[0mdt\u001b[0m\u001b[0;34m.\u001b[0m\u001b[0mstrftime\u001b[0m\u001b[0;34m(\u001b[0m\u001b[0;34m'%m'\u001b[0m\u001b[0;34m)\u001b[0m\u001b[0;34m\u001b[0m\u001b[0;34m\u001b[0m\u001b[0m\n\u001b[1;32m      5\u001b[0m \u001b[0mdf_raw_flow\u001b[0m\u001b[0;34m[\u001b[0m\u001b[0;34m'YearX'\u001b[0m\u001b[0;34m]\u001b[0m \u001b[0;34m=\u001b[0m \u001b[0mpd\u001b[0m\u001b[0;34m.\u001b[0m\u001b[0mto_datetime\u001b[0m\u001b[0;34m(\u001b[0m\u001b[0mdf_raw_flow\u001b[0m\u001b[0;34m[\u001b[0m\u001b[0;34m\"AsofDate\"\u001b[0m\u001b[0;34m]\u001b[0m\u001b[0;34m)\u001b[0m\u001b[0;34m.\u001b[0m\u001b[0mdt\u001b[0m\u001b[0;34m.\u001b[0m\u001b[0mstrftime\u001b[0m\u001b[0;34m(\u001b[0m\u001b[0;34m'%Y'\u001b[0m\u001b[0;34m)\u001b[0m\u001b[0;34m\u001b[0m\u001b[0;34m\u001b[0m\u001b[0m\n",
      "\u001b[0;31mNameError\u001b[0m: name 'df_rawdata' is not defined"
     ]
    }
   ],
   "source": [
    "## Membuat dataset flowrate ##\n",
    "## ------------------------ ##\n",
    "df_raw_flow = df_rawdata\n",
    "df_raw_flow['MonthX'] = pd.to_datetime(df_raw_flow[\"AsofDate\"]).dt.strftime('%m')\n",
    "df_raw_flow['YearX'] = pd.to_datetime(df_raw_flow[\"AsofDate\"]).dt.strftime('%Y')\n",
    "\n",
    "TempRaw = 'df_raw_final'\n",
    "for i in range(12): # df_xx.iteritems():\n",
    "    Temp = TempRaw +\"\"+ str(i+1).zfill(2)\n",
    "    TempPrv = TempRaw +\"\"+ str(i).zfill(2)\n",
    "    TempMonth = str(i+1).zfill(2)\n",
    "    TempMonthPrv = str(i).zfill(2)\n",
    "    \n",
    "    # print(Temp)\n",
    "    # print(TempPrv)\n",
    "    # print(TempMonth)\n",
    "    # print(TempMonthPrv)    "
   ]
  },
  {
   "cell_type": "code",
   "execution_count": null,
   "metadata": {},
   "outputs": [],
   "source": []
  }
 ],
 "metadata": {
  "kernelspec": {
   "display_name": "Python 3",
   "language": "python",
   "name": "python3"
  },
  "language_info": {
   "codemirror_mode": {
    "name": "ipython",
    "version": 3
   },
   "file_extension": ".py",
   "mimetype": "text/x-python",
   "name": "python",
   "nbconvert_exporter": "python",
   "pygments_lexer": "ipython3",
   "version": "3.6.9"
  }
 },
 "nbformat": 4,
 "nbformat_minor": 4
}
