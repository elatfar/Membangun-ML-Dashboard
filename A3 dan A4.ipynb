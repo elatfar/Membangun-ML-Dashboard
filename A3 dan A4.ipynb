{
 "cells": [
  {
   "cell_type": "code",
   "execution_count": 1,
   "metadata": {},
   "outputs": [],
   "source": [
    "### A3. Membuat dataset profile debitur selama 1 tahun ###\n",
    "### -------------------------------------------------- ###\n",
    "import pandas as pd\n",
    "import numpy as np\n",
    "import matplotlib.pyplot as plt\n",
    "import seaborn as sns\n",
    "import warnings\n",
    "warnings.filterwarnings(\"ignore\")\n",
    "from pandas.plotting import radviz"
   ]
  },
  {
   "cell_type": "code",
   "execution_count": 4,
   "metadata": {},
   "outputs": [
    {
     "name": "stdout",
     "output_type": "stream",
     "text": [
      "                       CIF  Collectibility    Plafond  Oustanding  \\\n",
      "0   01.40.010999.03 / 7239               1   40000000    15360000   \n",
      "1   01.40.011014.01 / 7281               1  100000000    70848600   \n",
      "2   01.40.011029.01 / 7318               1  150000000   125000000   \n",
      "3   01.40.011031.02 / 7328               1  250000000   187499800   \n",
      "4   01.40.011039.03 / 7345               1  200000000   172220000   \n",
      "5   01.40.011046.02 / 7365               1  300000000   250000000   \n",
      "6   01.40.011047.05 / 7375               1  225000000   210937500   \n",
      "7   01.40.011067.03 / 7424               1  100000000   100000000   \n",
      "8   01.40.011071.02 / 7430               1  150000000   150000000   \n",
      "9   01.40.011080.14 / 7456               1   20000000    14996000   \n",
      "10  01.40.011088.08 / 7471               1  200000000   200000000   \n",
      "11  01.40.011089.01 / 7472               1   75000000    68748500   \n",
      "12  01.40.011099.01 / 7523               1  160000000   133165000   \n",
      "13  01.40.011110.01 / 7541               1  150000000   133332000   \n",
      "14  01.40.011138.08 / 7622               1   17000000    15583000   \n",
      "15  01.50.011017.01 / 7024               1   30000000     3563500   \n",
      "16  01.50.011103.01 / 7173               1  210000000   122475000   \n",
      "17  01.50.011203.07 / 7337               1  150000000   132500000   \n",
      "18  01.50.011233.04 / 7380               1    5000000      410000   \n",
      "19  01.50.011320.12 / 7515               1  250000000   250000000   \n",
      "20  01.50.011326.01 / 7530               1   80000000    77775000   \n",
      "21  01.50.011332.01 / 7542               1   20000000    18331500   \n",
      "22  01.50.011336.03 / 7548               1  100000000    94444200   \n",
      "\n",
      "    Business_Type    OpenDate   LOB  DelQ                   Collateral_Type  \\\n",
      "0            1007  12/02/2018  UMKM    19                        XXX No.349   \n",
      "1            1007  16/04/2018  UMKM    30                       XXX No.3146   \n",
      "2            8000  31/05/2018  UMKM     0                  XXX No.194 & 195   \n",
      "3            8000  16/07/2018  UMKM    15                           7 YYYY    \n",
      "4            6000  23/08/2018  UMKM     7                      XXX No.01931   \n",
      "5            6000  19/09/2018  UMKM    12                        XXX No.720   \n",
      "6            6000  16/10/2018  UMKM    28                       XXX No.4716   \n",
      "7            6000  15/01/2019  UMKM     0                        XXX No.801   \n",
      "8            8000  25/01/2019  UMKM     5                      XXX NO.00098   \n",
      "9            1007  06/03/2019  UMKM    25                      XXX No.00510   \n",
      "10           1007  22/03/2019  UMKM    24                            4 YYYY   \n",
      "11           1016  22/03/2019  UMKM    30                        XXX No.864   \n",
      "12           1007  10/05/2019  UMKM    30                         XXX No.13   \n",
      "13           1019  08/07/2019  UMKM    30                YYYY No.08966648-L   \n",
      "14           1007  05/11/2019  UMKM    26  YYYY No. 00869874-N , 07554638-K   \n",
      "15           1019  10/02/2017  UMKM    21                YYYY No.13143640-L   \n",
      "16           9990  31/10/2017  UMKM     0                       XXX No.1173   \n",
      "17           9990  06/08/2018  UMKM    24                       XXX No.3062   \n",
      "18           1019  18/10/2018  UMKM    13                YYYY No.09503942-L   \n",
      "19           1019  30/04/2019  UMKM    30                       XXX No.3728   \n",
      "20           1019  20/05/2019  UMKM    30    YYYY No.00817362-N, 00988134-N   \n",
      "21           1007  10/07/2019  UMKM    21     YYYY No.04632936-K, 2588410-H   \n",
      "22           1007  17/07/2019  UMKM    23                      XXX No.01567   \n",
      "\n",
      "    Collateral_Value  \n",
      "0          197000000  \n",
      "1          454000000  \n",
      "2          471000000  \n",
      "3          500000000  \n",
      "4          604000000  \n",
      "5         2143000000  \n",
      "6          636000000  \n",
      "7          168000000  \n",
      "8          677500000  \n",
      "9          268000000  \n",
      "10         400000000  \n",
      "11         335200000  \n",
      "12         561500000  \n",
      "13          16000000  \n",
      "14          35000000  \n",
      "15          66000000  \n",
      "16         398000000  \n",
      "17         648000000  \n",
      "18          10000000  \n",
      "19        1008000000  \n",
      "20         230000000  \n",
      "21          41000000  \n",
      "22         354000000  \n"
     ]
    }
   ],
   "source": [
    "# Source directory and result #\n",
    "src = r'SampleDataCsv.csv'\n",
    "df = pd.read_csv(src, sep='|')\n",
    "\n",
    "str1 = 'AsofDate'\n",
    "str2 = 'CIF'\n",
    "str3 = 'Collectibility'\n",
    "str4 = 'Plafond'\n",
    "str5 = 'Oustanding'\n",
    "str6 = 'Business_Type'\n",
    "str7 = 'OpenDate'\n",
    "str8 = 'LOB'\n",
    "str9 = 'DelQ'\n",
    "str10 = 'Collateral_Type'\n",
    "str11 = 'Collateral_Value'\n",
    "\n",
    "df2 = df.groupby([str2]).agg({ str3:'max'\n",
    "                              ,str4:'max'\n",
    "                              ,str5:'max'\n",
    "                              ,str6:'max'\n",
    "                              ,str7:'max'\n",
    "                              ,str8:'max'\n",
    "                              ,str9:'max'\n",
    "                              ,str10:'max'\n",
    "                              ,str11:'max'})[[str3\n",
    "                                             ,str4\n",
    "                                             ,str5\n",
    "                                             ,str6\n",
    "                                             ,str7\n",
    "                                             ,str8\n",
    "                                             ,str9\n",
    "                                             ,str10\n",
    "                                             ,str11]].reset_index()\n",
    "print(df2)"
   ]
  },
  {
   "cell_type": "code",
   "execution_count": 5,
   "metadata": {},
   "outputs": [],
   "source": [
    "## Additional coloumn ##\n",
    "df2[\"Sisa_Plafond\"] = df2[str4] - df2[str5]\n",
    "\n",
    "## Bucket Dpd - range mapping value ## \n",
    "bins = [0, 1, 30, 60, 90, 120, 150, 180]\n",
    "names = ['1_Current', '2_DPD1+', '3_DPD30+', '4_DPD60+', \n",
    "         '5_DPD90+', '6_DPD120+', '7_DPD150+', '8_DPD180+']\n",
    "d = dict(enumerate(names, 1))\n",
    "df2['Bucket'] = np.vectorize(d.get)(np.digitize(df2[str9], bins))"
   ]
  },
  {
   "cell_type": "code",
   "execution_count": 6,
   "metadata": {},
   "outputs": [],
   "source": [
    "## Kolektibitas mapping ## \n",
    "bins = [1, 2, 5]\n",
    "names = ['1_Current', '2_SM', '3_NPL']\n",
    "d = dict(enumerate(names, 1))\n",
    "df2['Collectibility_Desc'] = np.vectorize(d.get)(np.digitize(df2[str3], bins))"
   ]
  },
  {
   "cell_type": "code",
   "execution_count": 7,
   "metadata": {},
   "outputs": [],
   "source": [
    "## Oustanding ##\n",
    "bins = [0, 50000000, 80000000, 100000000, 250000000, 350000000]\n",
    "names = ['A_0-50 Jt', 'B_>50-80 Jt', 'C_>80-100 Jt', \n",
    "         'D_>100-250 Jt', 'E_>250-350 Jt', 'F_>350 Jt']\n",
    "d = dict(enumerate(names, 1))\n",
    "df2['Oustanding_Band'] = np.vectorize(d.get)(np.digitize(df2[str5], bins)) "
   ]
  },
  {
   "cell_type": "code",
   "execution_count": 8,
   "metadata": {},
   "outputs": [],
   "source": [
    "## Temporary ##\n",
    "Collectibility = df2['Collectibility'].astype(int)\n",
    "Collateral_Value = df2['Collateral_Value'].astype(float)\n",
    "OS = df2[\"Oustanding\"].astype(int)"
   ]
  },
  {
   "cell_type": "code",
   "execution_count": 9,
   "metadata": {},
   "outputs": [],
   "source": [
    "# df2['Collateral_remains'] = OS - Collateral_Value\n",
    "df2.loc[(Collateral_Value < OS), 'Collateral_remains'] = OS - Collateral_Value\n",
    "df2.loc[(Collateral_Value > OS), 'Collateral_remains'] = 0\n",
    "df2.loc[(Collateral_Value == OS), 'Collateral_remains'] = 0\n",
    "df2.dropna(inplace=True)"
   ]
  },
  {
   "cell_type": "code",
   "execution_count": 10,
   "metadata": {},
   "outputs": [],
   "source": [
    "## Grouping tipe bisnis ##\n",
    "Business_Type = df2['Business_Type'].astype(int)\n",
    "df2.loc[(Business_Type.isin([9990,1019,6000,1007])), 'Type_Buss'] = Business_Type\n",
    "df2.loc[(Business_Type.isin([1001,1004,1008,1015,1020,8000,9000,1014,1016])), 'Type_Buss'] = 'Oth'\n",
    "df2.loc[(Business_Type > 150000), 'Type_Buss'] = 'Oth'"
   ]
  },
  {
   "cell_type": "code",
   "execution_count": 11,
   "metadata": {},
   "outputs": [
    {
     "name": "stdout",
     "output_type": "stream",
     "text": [
      "Membuat dataset profile debitur selama 1 tahun - selesai\n"
     ]
    }
   ],
   "source": [
    "## Create Debtor current month ##\n",
    "DirResult = \"C:\\Data\\BTN_DebiturInfo.csv\"\n",
    "df2.to_csv( DirResult, index = False, sep='|')\n",
    "df_DebiturInfo = df2\n",
    "# print(df_DebiturInfo.head(3))\n",
    "print('Membuat dataset profile debitur selama 1 tahun - selesai')"
   ]
  },
  {
   "cell_type": "code",
   "execution_count": 12,
   "metadata": {},
   "outputs": [
    {
     "name": "stdout",
     "output_type": "stream",
     "text": [
      "   Dash_Id  Total\n",
      "0        1     23\n"
     ]
    }
   ],
   "source": [
    "df_Dash1 = df_DebiturInfo\n",
    "df_Dash1 = df_Dash1.groupby('Collectibility').agg({'Oustanding': lambda x: x.count()})\n",
    "df_Dash1.reset_index(inplace=True)\n",
    "df_Dash1 = df_Dash1.rename(columns={'Collectibility': 'Dash_Id','Oustanding': 'Total'})\n",
    "print(df_Dash1)"
   ]
  },
  {
   "cell_type": "code",
   "execution_count": 13,
   "metadata": {},
   "outputs": [
    {
     "name": "stdout",
     "output_type": "stream",
     "text": [
      "  Dash_Id  Total\n",
      "0    1007      8\n",
      "1    1019      5\n",
      "2    6000      4\n",
      "3    9990      2\n",
      "4     Oth      4\n"
     ]
    }
   ],
   "source": [
    "df_Dash2 = df_DebiturInfo\n",
    "df_Dash2 = df_Dash2.groupby('Type_Buss').agg({'Oustanding': lambda x: x.count()})\n",
    "df_Dash2.reset_index(inplace=True)\n",
    "df_Dash2 = df_Dash2.rename(columns={'Type_Buss': 'Dash_Id','Oustanding': 'Total'})\n",
    "print(df_Dash2)"
   ]
  },
  {
   "cell_type": "code",
   "execution_count": 17,
   "metadata": {},
   "outputs": [
    {
     "name": "stdout",
     "output_type": "stream",
     "text": [
      "     Dash_Id  Total\n",
      "0  1_Current      3\n",
      "1    2_DPD1+     14\n",
      "2   3_DPD30+      6\n"
     ]
    }
   ],
   "source": [
    "df_Dash3 = df_DebiturInfo\n",
    "df_Dash3 = df_Dash3.groupby('Bucket').agg({'Oustanding': lambda x: x.count()})\n",
    "df_Dash3.reset_index(inplace=True)\n",
    "df_Dash3 = df_Dash3.rename(columns={'Bucket': 'Dash_Id','Oustanding': 'Total'})\n",
    "print(df_Dash3)"
   ]
  },
  {
   "cell_type": "code",
   "execution_count": 14,
   "metadata": {},
   "outputs": [
    {
     "name": "stdout",
     "output_type": "stream",
     "text": [
      "     Dash_Id  Total\n",
      "0  1_Current     23\n"
     ]
    }
   ],
   "source": [
    "df_Dash4 = df_DebiturInfo\n",
    "df_Dash4 = df_Dash4.groupby('Collectibility_Desc').agg({'Oustanding': lambda x: x.count()})\n",
    "df_Dash4.reset_index(inplace=True)\n",
    "df_Dash4 = df_Dash4.rename(columns={'Collectibility_Desc': 'Dash_Id','Oustanding': 'Total'})\n",
    "print(df_Dash4)"
   ]
  },
  {
   "cell_type": "code",
   "execution_count": 15,
   "metadata": {},
   "outputs": [
    {
     "name": "stdout",
     "output_type": "stream",
     "text": [
      "         Dash_Id  Total\n",
      "0      A_0-50 Jt      6\n",
      "1    B_>50-80 Jt      3\n",
      "2   C_>80-100 Jt      1\n",
      "3  D_>100-250 Jt     11\n",
      "4  E_>250-350 Jt      2\n"
     ]
    }
   ],
   "source": [
    "df_Dash5 = df_DebiturInfo\n",
    "df_Dash5 = df_Dash5.groupby('Oustanding_Band').agg({'Oustanding': lambda x: x.count()})\n",
    "df_Dash5.reset_index(inplace=True)\n",
    "df_Dash5 = df_Dash5.rename(columns={'Oustanding_Band': 'Dash_Id','Oustanding': 'Total'})\n",
    "print(df_Dash5)"
   ]
  },
  {
   "cell_type": "code",
   "execution_count": 18,
   "metadata": {},
   "outputs": [
    {
     "name": "stdout",
     "output_type": "stream",
     "text": [
      "               Total\n",
      "Dash_Id             \n",
      "1                 23\n",
      "1007.0             8\n",
      "1019.0             5\n",
      "6000.0             4\n",
      "9990.0             2\n",
      "Oth                4\n",
      "1_Current          3\n",
      "2_DPD1+           14\n",
      "3_DPD30+           6\n",
      "1_Current         23\n",
      "A_0-50 Jt          6\n",
      "B_>50-80 Jt        3\n",
      "C_>80-100 Jt       1\n",
      "D_>100-250 Jt     11\n",
      "E_>250-350 Jt      2\n"
     ]
    }
   ],
   "source": [
    "result = pd.concat([df_Dash1,df_Dash2,df_Dash3,df_Dash4,df_Dash5])\n",
    "result = result.loc[:,~result.columns.duplicated()]\n",
    "result.reset_index(drop=True, inplace=True)\n",
    "result = result[['Dash_Id','Total']]\n",
    "result = result.set_index('Dash_Id')\n",
    "print(result)"
   ]
  },
  {
   "cell_type": "code",
   "execution_count": null,
   "metadata": {},
   "outputs": [],
   "source": []
  }
 ],
 "metadata": {
  "kernelspec": {
   "display_name": "Python 3",
   "language": "python",
   "name": "python3"
  },
  "language_info": {
   "codemirror_mode": {
    "name": "ipython",
    "version": 3
   },
   "file_extension": ".py",
   "mimetype": "text/x-python",
   "name": "python",
   "nbconvert_exporter": "python",
   "pygments_lexer": "ipython3",
   "version": "3.6.9"
  }
 },
 "nbformat": 4,
 "nbformat_minor": 4
}
